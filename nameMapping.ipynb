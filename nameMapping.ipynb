{
 "cells": [
  {
   "cell_type": "code",
   "execution_count": null,
   "id": "8e59bfca-c9a1-4c37-88dc-21ebcbfaf7a7",
   "metadata": {},
   "outputs": [],
   "source": [
    "We will use this to map the names of different dataframes"
   ]
  },
  {
   "cell_type": "code",
   "execution_count": 9,
   "id": "65d0cdb7-6b34-44e9-9dfb-51acde137ce4",
   "metadata": {},
   "outputs": [
    {
     "name": "stdout",
     "output_type": "stream",
     "text": [
      "          JP_Category          JP_Subcategory\n",
      "0         Electronics             Smartphones\n",
      "1         Electronics     Computers & Tablets\n",
      "2         Electronics      TVs & Home Theater\n",
      "3         Electronics      Audio & Headphones\n",
      "4         Electronics    Cameras & Camcorders\n",
      "5         Electronics  Video Games & Consoles\n",
      "6             Fashion        Women's Clothing\n",
      "7             Fashion           Women's Shoes\n",
      "8             Fashion     Women's Accessories\n",
      "9             Fashion          Men's Clothing\n",
      "10            Fashion             Men's Shoes\n",
      "11            Fashion       Men's Accessories\n",
      "12      Home & Garden               Furniture\n",
      "13      Home & Garden        Kitchen & Dining\n",
      "14      Home & Garden          Bedding & Bath\n",
      "15      Home & Garden              Home Decor\n",
      "16      Home & Garden              Appliances\n",
      "17  Sports & Outdoors      Exercise & Fitness\n",
      "18  Sports & Outdoors      Outdoor Recreation\n",
      "19  Sports & Outdoors             Team Sports\n",
      "20  Sports & Outdoors        Camping & Hiking\n",
      "21  Sports & Outdoors                    Golf\n",
      "\n",
      "\n",
      "       US_Category          US_Subcategory\n",
      "0      Electronics             Smartphones\n",
      "1      Electronics     Computers & Tablets\n",
      "2      Electronics      TVs & Home Theater\n",
      "3      Electronics      Audio & Headphones\n",
      "4      Electronics    Cameras & Camcorders\n",
      "5      Electronics  Video Games & Consoles\n",
      "6          Fashion        Women's Clothing\n",
      "7          Fashion           Women's Shoes\n",
      "8          Fashion     Women's Accessories\n",
      "9          Fashion          Men's Clothing\n",
      "10         Fashion             Men's Shoes\n",
      "11         Fashion       Men's Accessories\n",
      "12  Home & Kitchen               Furniture\n",
      "13  Home & Kitchen        Kitchen & Dining\n",
      "14  Home & Kitchen          Bedding & Bath\n",
      "15  Home & Kitchen              Home Decor\n",
      "16  Home & Kitchen              Appliances\n"
     ]
    }
   ],
   "source": [
    "import pandas as pd\n",
    "\n",
    "df_jp = pd.read_csv('data/jp_categories.csv')\n",
    "df_us = pd.read_csv('data/us_categories.csv')\n",
    "print(df_jp.head(-10))\n",
    "print('\\n')\n",
    "print(df_us.head(-10))"
   ]
  },
  {
   "cell_type": "code",
   "execution_count": 15,
   "id": "d1927708-1d6c-4a2a-aec3-4e1255a69ba5",
   "metadata": {},
   "outputs": [
    {
     "name": "stdout",
     "output_type": "stream",
     "text": [
      "           US_Category       JP_category         US_subcategory         JP_Subcategory\n",
      "           Electronics       Electronics            Smartphones            Smartphones\n",
      "           Electronics       Electronics    Computers & Tablets    Computers & Tablets\n",
      "           Electronics       Electronics     TVs & Home Theater     TVs & Home Theater\n",
      "           Electronics       Electronics     Audio & Headphones     Audio & Headphones\n",
      "           Electronics       Electronics   Cameras & Camcorders   Cameras & Camcorders\n",
      "           Electronics       Electronics Video Games & Consoles Video Games & Consoles\n",
      "               Fashion           Fashion       Women's Clothing       Women's Clothing\n",
      "               Fashion           Fashion          Women's Shoes          Women's Shoes\n",
      "               Fashion           Fashion    Women's Accessories    Women's Accessories\n",
      "               Fashion           Fashion         Men's Clothing         Men's Clothing\n",
      "               Fashion           Fashion            Men's Shoes            Men's Shoes\n",
      "               Fashion           Fashion      Men's Accessories      Men's Accessories\n",
      "        Home & Kitchen     Home & Garden              Furniture              Furniture\n",
      "        Home & Kitchen     Home & Garden       Kitchen & Dining       Kitchen & Dining\n",
      "        Home & Kitchen     Home & Garden         Bedding & Bath         Bedding & Bath\n",
      "        Home & Kitchen     Home & Garden             Home Decor             Home Decor\n",
      "        Home & Kitchen     Home & Garden             Appliances             Appliances\n",
      "     Sports & Outdoors Sports & Outdoors     Exercise & Fitness     Exercise & Fitness\n",
      "     Sports & Outdoors Sports & Outdoors     Outdoor Recreation     Outdoor Recreation\n",
      "     Sports & Outdoors Sports & Outdoors            Team Sports            Team Sports\n",
      "     Sports & Outdoors Sports & Outdoors       Camping & Hiking       Camping & Hiking\n",
      "     Sports & Outdoors Sports & Outdoors                   Golf                   Golf\n",
      "Beauty & Personal Care   Health & Beauty               Skincare               Skincare\n",
      "Beauty & Personal Care   Health & Beauty               Haircare               Haircare\n",
      "Beauty & Personal Care   Health & Beauty                 Makeup                 Makeup\n",
      "Beauty & Personal Care   Health & Beauty             Fragrances             Fragrances\n",
      "Beauty & Personal Care   Health & Beauty          Personal Care          Personal Care\n",
      "           Electronics     Books & Media Video Games & Consoles            Video Games\n"
     ]
    }
   ],
   "source": [
    "from fuzzywuzzy import fuzz\n",
    "\n",
    "columns = ['US_Category', 'JP_category', 'US_subcategory', 'JP_Subcategory']\n",
    "final_df = pd.DataFrame(columns=columns)\n",
    "\n",
    "def get_score(str1, str2):\n",
    "    return fuzz.token_set_ratio(str1, str2)\n",
    "\n",
    "\n",
    "for outer_index, row1 in df_jp.iterrows():\n",
    "    best_score = 0\n",
    "    best_row = None\n",
    "    for inner_index, row2 in df_us.iterrows():\n",
    "        current_score = get_score(row2['US_Subcategory'], row1['JP_Subcategory'])\n",
    "        if current_score > best_score:\n",
    "            best_score = current_score\n",
    "            best_row = row2\n",
    "        \n",
    "    if best_score > 90:\n",
    "        new_row = {'US_Category' : best_row['US_Category'], \n",
    "                   'JP_category': row1['JP_Category'],\n",
    "                   'US_subcategory': best_row['US_Subcategory'],\n",
    "                   'JP_Subcategory': row1['JP_Subcategory']\n",
    "                  }\n",
    "        final_df.loc[len(final_df)] = new_row\n",
    "print(final_df.to_string(index=False))"
   ]
  },
  {
   "cell_type": "code",
   "execution_count": null,
   "id": "88ad65c1-b4f8-49d8-8c78-49e8e5d66345",
   "metadata": {},
   "outputs": [],
   "source": []
  }
 ],
 "metadata": {
  "kernelspec": {
   "display_name": "Python 3 (ipykernel)",
   "language": "python",
   "name": "python3"
  },
  "language_info": {
   "codemirror_mode": {
    "name": "ipython",
    "version": 3
   },
   "file_extension": ".py",
   "mimetype": "text/x-python",
   "name": "python",
   "nbconvert_exporter": "python",
   "pygments_lexer": "ipython3",
   "version": "3.10.6"
  }
 },
 "nbformat": 4,
 "nbformat_minor": 5
}
